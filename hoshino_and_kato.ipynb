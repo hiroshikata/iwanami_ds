{
 "cells": [
  {
   "cell_type": "code",
   "execution_count": 1,
   "metadata": {},
   "outputs": [
    {
     "name": "stderr",
     "output_type": "stream",
     "text": [
      "/Users/shikatahiro/.pyenv/versions/anaconda3-4.2.0/lib/python3.7/site-packages/lightgbm/__init__.py:48: UserWarning: Starting from version 2.2.1, the library file in distribution wheels for macOS is built by the Apple Clang (Xcode_8.3.3) compiler.\n",
      "This means that in case of installing LightGBM from PyPI via the ``pip install lightgbm`` command, you don't need to install the gcc compiler anymore.\n",
      "Instead of that, you need to install the OpenMP library, which is required for running LightGBM on the system with the Apple Clang compiler.\n",
      "You can install the OpenMP library by the following command: ``brew install libomp``.\n",
      "  \"You can install the OpenMP library by the following command: ``brew install libomp``.\", UserWarning)\n"
     ]
    }
   ],
   "source": [
    "import numpy as np\n",
    "import pandas as pd\n",
    "from matplotlib import pyplot as plt\n",
    "import seaborn as sns\n",
    "import gc\n",
    "import lightgbm as lgb\n",
    "from sklearn.linear_model import LogisticRegression\n",
    "from sklearn import svm\n",
    "from sklearn.model_selection import train_test_split\n",
    "from sklearn.model_selection import GridSearchCV\n",
    "from sklearn import preprocessing\n",
    "from sklearn.metrics import roc_curve\n",
    "from sklearn.metrics import roc_auc_score"
   ]
  },
  {
   "cell_type": "code",
   "execution_count": 2,
   "metadata": {},
   "outputs": [],
   "source": [
    "df = pd.DataFrame(pd.read_csv('/Users/shikatahiro/dev/vol3-master/kato_and_hoshino/q_data_x.csv'))"
   ]
  },
  {
   "cell_type": "code",
   "execution_count": 3,
   "metadata": {},
   "outputs": [],
   "source": [
    "#drop z_vec and y_vec\n",
    "x_train = df.drop(['cm_dummy', 'gamedummy', 'gamecount', 'gamesecond'], axis=1)\n",
    "eval_data=x_train\n",
    "z1_true = pd.Series(df[\"cm_dummy\"])"
   ]
  },
  {
   "cell_type": "code",
   "execution_count": 5,
   "metadata": {},
   "outputs": [
    {
     "name": "stderr",
     "output_type": "stream",
     "text": [
      "/Users/shikatahiro/.pyenv/versions/anaconda3-4.2.0/lib/python3.7/site-packages/sklearn/linear_model/logistic.py:432: FutureWarning: Default solver will be changed to 'lbfgs' in 0.22. Specify a solver to silence this warning.\n",
      "  FutureWarning)\n"
     ]
    },
    {
     "name": "stdout",
     "output_type": "stream",
     "text": [
      "0.7854712010385678\n",
      "                  0            1\n",
      "0        area_kanto     0.401336\n",
      "1       area_keihan      0.60171\n",
      "2        area_tokai    -0.196038\n",
      "3   area_keihanshin     -1.09043\n",
      "4               age   -0.0243165\n",
      "5               sex    -0.139786\n",
      "6       marry_dummy    0.0747243\n",
      "7        job_dummy1     -0.24285\n",
      "8        job_dummy2    -0.012289\n",
      "9        job_dummy3    0.0620165\n",
      "10       job_dummy4    0.0109754\n",
      "11       job_dummy5     0.124548\n",
      "12       job_dummy6    -0.070026\n",
      "13       job_dummy7    -0.118906\n",
      "14       job_dummy8    -0.036889\n",
      "15              inc -0.000155393\n",
      "16           pmoney    0.0104388\n",
      "17   fam_str_dummy1   -0.0570686\n",
      "18   fam_str_dummy2     0.105881\n",
      "19   fam_str_dummy3   -0.0936267\n",
      "20   fam_str_dummy4     -0.16851\n",
      "21   fam_str_dummy5   -0.0700956\n",
      "22      child_dummy   -0.0057056\n",
      "23                T   -0.0240861\n",
      "24               F1    -0.386595\n",
      "25               F2      0.25085\n",
      "26               F3   -0.0244541\n",
      "27               M1    -0.263526\n",
      "28               M2   -0.0114975\n",
      "29               M3     0.175888\n",
      "30      TVwatch_day  0.000128365\n"
     ]
    },
    {
     "data": {
      "image/png": "[encoded data removed]",
      "text/plain": [
       "<Figure size 432x288 with 1 Axes>"
      ]
     },
     "metadata": {
      "needs_background": "light"
     },
     "output_type": "display_data"
    }
   ],
   "source": [
    "#logistic regression------------------------------------\n",
    "lr = LogisticRegression()\n",
    "lr.fit(x_train, z1_true)\n",
    "z_preds_lr=lr.predict_proba(eval_data)\n",
    "fpr, tpr, threshold = roc_curve(z1_true,z_preds_lr[:,1])\n",
    "\n",
    "plt.plot(fpr, tpr, marker='o')\n",
    "plt.xlabel('FPR: False positive rate')\n",
    "plt.ylabel('TPR: True positive rate')\n",
    "plt.grid()\n",
    "\n",
    "print(roc_auc_score(z1_true, z_preds_lr[:,1]))\n",
    "\n",
    "coeff_df = pd.DataFrame([x_train.columns, lr.coef_[0]]).T\n",
    "print(coeff_df)"
   ]
  },
  {
   "cell_type": "code",
   "execution_count": 9,
   "metadata": {},
   "outputs": [
    {
     "name": "stderr",
     "output_type": "stream",
     "text": [
      "/Users/shikatahiro/.pyenv/versions/anaconda3-4.2.0/lib/python3.7/site-packages/sklearn/linear_model/logistic.py:432: FutureWarning: Default solver will be changed to 'lbfgs' in 0.22. Specify a solver to silence this warning.\n",
      "  FutureWarning)\n"
     ]
    },
    {
     "name": "stdout",
     "output_type": "stream",
     "text": [
      "0.7954132777390974\n",
      "                  0            1\n",
      "0        area_kanto     0.305928\n",
      "1       area_keihan     0.313512\n",
      "2        area_tokai   -0.0324919\n",
      "3   area_keihanshin    -0.571285\n",
      "4               age    -0.194646\n",
      "5               sex    -0.564844\n",
      "6       marry_dummy   -0.0427069\n",
      "7        job_dummy1   -0.0673481\n",
      "8        job_dummy2    -0.024882\n",
      "9        job_dummy3    0.0588605\n",
      "10       job_dummy4  1.24229e-05\n",
      "11       job_dummy5     0.105321\n",
      "12       job_dummy6    0.0186897\n",
      "13       job_dummy7   -0.0387299\n",
      "14       job_dummy8   -0.0472039\n",
      "15              inc    -0.116594\n",
      "16           pmoney    0.0481631\n",
      "17   fam_str_dummy1    0.0230895\n",
      "18   fam_str_dummy2     0.123624\n",
      "19   fam_str_dummy3   -0.0317349\n",
      "20   fam_str_dummy4     -0.10922\n",
      "21   fam_str_dummy5   -0.0655798\n",
      "22      child_dummy     0.120894\n",
      "23                T   -0.0232786\n",
      "24               F1     -0.41506\n",
      "25               F2    -0.151519\n",
      "26               F3    -0.180564\n",
      "27               M1    0.0964293\n",
      "28               M2     0.229262\n",
      "29               M3     0.263204\n",
      "30      TVwatch_day      1.03235\n"
     ]
    },
    {
     "data": {
      "image/png": "[encoded data removed]",
      "text/plain": [
       "<Figure size 432x288 with 1 Axes>"
      ]
     },
     "metadata": {
      "needs_background": "light"
     },
     "output_type": "display_data"
    }
   ],
   "source": [
    "#logistic regression(standarization)------------------------------------\n",
    "sscaler=preprocessing.StandardScaler()\n",
    "lr_scale = LogisticRegression()\n",
    "sscaler.fit(x_train)\n",
    "x_train_scale=sscaler.transform(x_train)\n",
    "eval_data_scale=x_train_scale\n",
    "lr_scale.fit(x_train_scale, z1_true)\n",
    "z_preds_lr_scale=lr_scale.predict_proba(eval_data_scale)\n",
    "\n",
    "fpr, tpr, threshold = roc_curve(z1_true,z_preds_lr[:,1])\n",
    "\n",
    "plt.plot(fpr, tpr, marker='o')\n",
    "plt.xlabel('FPR: False positive rate')\n",
    "plt.ylabel('TPR: True positive rate')\n",
    "plt.grid()\n",
    "\n",
    "print(roc_auc_score(z1_true, z_preds_lr_scale[:,1]))\n",
    "\n",
    "coeff_df = pd.DataFrame([x_train.columns, lr_scale.coef_[0]]).T\n",
    "print(coeff_df)"
   ]
  },
  {
   "cell_type": "code",
   "execution_count": 10,
   "metadata": {},
   "outputs": [
    {
     "name": "stderr",
     "output_type": "stream",
     "text": [
      "/Users/shikatahiro/.pyenv/versions/anaconda3-4.2.0/lib/python3.7/site-packages/sklearn/svm/base.py:193: FutureWarning: The default value of gamma will change from 'auto' to 'scale' in version 0.22 to account better for unscaled features. Set gamma explicitly to 'auto' or 'scale' to avoid this warning.\n",
      "  \"avoid this warning.\", FutureWarning)\n"
     ]
    },
    {
     "name": "stdout",
     "output_type": "stream",
     "text": [
      "0.9999998763766695\n"
     ]
    },
    {
     "data": {
      "image/png": "[encoded data removed]",
      "text/plain": [
       "<Figure size 432x288 with 1 Axes>"
      ]
     },
     "metadata": {
      "needs_background": "light"
     },
     "output_type": "display_data"
    }
   ],
   "source": [
    "#SVM-------------------------------------------------\n",
    "svc=svm.SVC(probability=True)\n",
    "svc.fit(x_train, z1_true)\n",
    "eval_data=x_train\n",
    "z_preds_svc=svc.predict_proba(eval_data)\n",
    "fpr, tpr, threshold = roc_curve(z1_true,z_preds_svc[:,1])\n",
    "\n",
    "plt.plot(fpr, tpr, marker='o')\n",
    "plt.xlabel('FPR: False positive rate')\n",
    "plt.ylabel('TPR: True positive rate')\n",
    "plt.grid()\n",
    "\n",
    "print(roc_auc_score(z1_true, z_preds_svc[:,1]))"
   ]
  },
  {
   "cell_type": "code",
   "execution_count": 12,
   "metadata": {},
   "outputs": [
    {
     "data": {
      "text/html": [
       "<div>\n",
       "<style scoped>\n",
       "    .dataframe tbody tr th:only-of-type {\n",
       "        vertical-align: middle;\n",
       "    }\n",
       "\n",
       "    .dataframe tbody tr th {\n",
       "        vertical-align: top;\n",
       "    }\n",
       "\n",
       "    .dataframe thead th {\n",
       "        text-align: right;\n",
       "    }\n",
       "</style>\n",
       "<table border=\"1\" class=\"dataframe\">\n",
       "  <thead>\n",
       "    <tr style=\"text-align: right;\">\n",
       "      <th></th>\n",
       "      <th>importance</th>\n",
       "    </tr>\n",
       "  </thead>\n",
       "  <tbody>\n",
       "    <tr>\n",
       "      <th>TVwatch_day</th>\n",
       "      <td>11572</td>\n",
       "    </tr>\n",
       "    <tr>\n",
       "      <th>inc</th>\n",
       "      <td>3512</td>\n",
       "    </tr>\n",
       "    <tr>\n",
       "      <th>pmoney</th>\n",
       "      <td>2990</td>\n",
       "    </tr>\n",
       "    <tr>\n",
       "      <th>age</th>\n",
       "      <td>2151</td>\n",
       "    </tr>\n",
       "    <tr>\n",
       "      <th>child_dummy</th>\n",
       "      <td>850</td>\n",
       "    </tr>\n",
       "    <tr>\n",
       "      <th>area_keihan</th>\n",
       "      <td>811</td>\n",
       "    </tr>\n",
       "    <tr>\n",
       "      <th>fam_str_dummy3</th>\n",
       "      <td>754</td>\n",
       "    </tr>\n",
       "    <tr>\n",
       "      <th>M2</th>\n",
       "      <td>668</td>\n",
       "    </tr>\n",
       "    <tr>\n",
       "      <th>marry_dummy</th>\n",
       "      <td>590</td>\n",
       "    </tr>\n",
       "    <tr>\n",
       "      <th>job_dummy1</th>\n",
       "      <td>532</td>\n",
       "    </tr>\n",
       "    <tr>\n",
       "      <th>sex</th>\n",
       "      <td>476</td>\n",
       "    </tr>\n",
       "    <tr>\n",
       "      <th>F2</th>\n",
       "      <td>413</td>\n",
       "    </tr>\n",
       "    <tr>\n",
       "      <th>area_keihanshin</th>\n",
       "      <td>405</td>\n",
       "    </tr>\n",
       "    <tr>\n",
       "      <th>job_dummy5</th>\n",
       "      <td>404</td>\n",
       "    </tr>\n",
       "    <tr>\n",
       "      <th>fam_str_dummy2</th>\n",
       "      <td>402</td>\n",
       "    </tr>\n",
       "    <tr>\n",
       "      <th>fam_str_dummy1</th>\n",
       "      <td>375</td>\n",
       "    </tr>\n",
       "    <tr>\n",
       "      <th>M1</th>\n",
       "      <td>338</td>\n",
       "    </tr>\n",
       "    <tr>\n",
       "      <th>area_tokai</th>\n",
       "      <td>328</td>\n",
       "    </tr>\n",
       "    <tr>\n",
       "      <th>job_dummy2</th>\n",
       "      <td>320</td>\n",
       "    </tr>\n",
       "    <tr>\n",
       "      <th>F1</th>\n",
       "      <td>310</td>\n",
       "    </tr>\n",
       "    <tr>\n",
       "      <th>job_dummy3</th>\n",
       "      <td>263</td>\n",
       "    </tr>\n",
       "    <tr>\n",
       "      <th>job_dummy6</th>\n",
       "      <td>250</td>\n",
       "    </tr>\n",
       "    <tr>\n",
       "      <th>area_kanto</th>\n",
       "      <td>242</td>\n",
       "    </tr>\n",
       "    <tr>\n",
       "      <th>fam_str_dummy4</th>\n",
       "      <td>225</td>\n",
       "    </tr>\n",
       "    <tr>\n",
       "      <th>M3</th>\n",
       "      <td>191</td>\n",
       "    </tr>\n",
       "    <tr>\n",
       "      <th>F3</th>\n",
       "      <td>188</td>\n",
       "    </tr>\n",
       "    <tr>\n",
       "      <th>job_dummy7</th>\n",
       "      <td>126</td>\n",
       "    </tr>\n",
       "    <tr>\n",
       "      <th>fam_str_dummy5</th>\n",
       "      <td>121</td>\n",
       "    </tr>\n",
       "    <tr>\n",
       "      <th>job_dummy8</th>\n",
       "      <td>119</td>\n",
       "    </tr>\n",
       "    <tr>\n",
       "      <th>job_dummy4</th>\n",
       "      <td>60</td>\n",
       "    </tr>\n",
       "    <tr>\n",
       "      <th>T</th>\n",
       "      <td>14</td>\n",
       "    </tr>\n",
       "  </tbody>\n",
       "</table>\n",
       "</div>"
      ],
      "text/plain": [
       "                 importance\n",
       "TVwatch_day           11572\n",
       "inc                    3512\n",
       "pmoney                 2990\n",
       "age                    2151\n",
       "child_dummy             850\n",
       "area_keihan             811\n",
       "fam_str_dummy3          754\n",
       "M2                      668\n",
       "marry_dummy             590\n",
       "job_dummy1              532\n",
       "sex                     476\n",
       "F2                      413\n",
       "area_keihanshin         405\n",
       "job_dummy5              404\n",
       "fam_str_dummy2          402\n",
       "fam_str_dummy1          375\n",
       "M1                      338\n",
       "area_tokai              328\n",
       "job_dummy2              320\n",
       "F1                      310\n",
       "job_dummy3              263\n",
       "job_dummy6              250\n",
       "area_kanto              242\n",
       "fam_str_dummy4          225\n",
       "M3                      191\n",
       "F3                      188\n",
       "job_dummy7              126\n",
       "fam_str_dummy5          121\n",
       "job_dummy8              119\n",
       "job_dummy4               60\n",
       "T                        14"
      ]
     },
     "metadata": {},
     "output_type": "display_data"
    },
    {
     "name": "stdout",
     "output_type": "stream",
     "text": [
      "0.9999950550667764\n"
     ]
    },
    {
     "data": {
      "image/png": "[encoded data removed]",
      "text/plain": [
       "<Figure size 432x288 with 1 Axes>"
      ]
     },
     "metadata": {
      "needs_background": "light"
     },
     "output_type": "display_data"
    }
   ],
   "source": [
    "#light gbm-------------------------------------------\n",
    "train_data = lgb.Dataset(x_train, label=z1_true)\n",
    "params={'task':'train'\n",
    "        ,'boosting_type':'gbdt'\n",
    "        ,'objective':'binary'\n",
    "        ,'verbose':2\n",
    "        }\n",
    "\n",
    "model=lgb.train(params\n",
    "        ,train_data\n",
    "        ,num_boost_round=1000\n",
    "        )\n",
    "\n",
    "importance = pd.DataFrame(model.feature_importance(), index=x_train.columns, columns=['importance'])\n",
    "display(importance.sort_values(by='importance', ascending=False))\n",
    "\n",
    "z_preds_lgb=model.predict(eval_data)\n",
    "\n",
    "fpr, tpr, threshold = roc_curve(z1_true,z_preds_lgb)\n",
    "\n",
    "plt.plot(fpr, tpr, marker='o')\n",
    "plt.xlabel('FPR: False positive rate')\n",
    "plt.ylabel('TPR: True positive rate')\n",
    "plt.grid()\n",
    "#plt.savefig('data/dst/sklearn_roc_curve.png')\n",
    "\n",
    "print(roc_auc_score(z1_true, z_preds_lgb))"
   ]
  },
  {
   "cell_type": "code",
   "execution_count": 21,
   "metadata": {},
   "outputs": [],
   "source": [
    "#concat ps\n",
    "df_lr = pd.concat([df, pd.Series(z_preds_lr[:,1]).rename('p_score')],axis=1)\n",
    "df_lr_scale = pd.concat([df, pd.Series(z_preds_lr_scale[:,1]).rename('p_score')],axis=1)\n",
    "df_svc = pd.concat([df, pd.Series(z_preds_svc[:,1]).rename('p_score')],axis=1)\n",
    "df_lgb = pd.concat([df, pd.Series(z_preds_lgb).rename('p_score')],axis=1)"
   ]
  },
  {
   "cell_type": "code",
   "execution_count": 24,
   "metadata": {},
   "outputs": [
    {
     "data": {
      "image/png": "[encoded data removed]",
      "text/plain": [
       "<Figure size 2160x1440 with 5 Axes>"
      ]
     },
     "metadata": {
      "needs_background": "light"
     },
     "output_type": "display_data"
    }
   ],
   "source": [
    "#IPWed distribution--------------------------\n",
    "fig, axes = plt.subplots(nrows=5, figsize=(30, 20))\n",
    "sns.distplot(df.query('cm_dummy==1')['TVwatch_day'], kde=False, norm_hist=True, bins=np.arange(0,60000,100), ax=axes[0], label='CM1')\n",
    "sns.distplot(df.query('cm_dummy==0')['TVwatch_day'], kde=False, norm_hist=True, bins=np.arange(0,60000,100), ax=axes[0], label='CM0')\n",
    "sns.distplot(df_lr.query('cm_dummy==1')['TVwatch_day']/df_lr.query('cm_dummy==1')['p_score'], kde=False, norm_hist=True, bins=np.arange(0,60000,100), ax=axes[1], label='CM1')\n",
    "sns.distplot(df_lr.query('cm_dummy==0')['TVwatch_day']/df_lr.query('cm_dummy==0')['p_score'], kde=False, norm_hist=True, bins=np.arange(0,60000,100), ax=axes[1], label='CM0')\n",
    "sns.distplot(df_lr_scale.query('cm_dummy==1')['TVwatch_day']/df_lr_scale.query('cm_dummy==1')['p_score'], kde=False, norm_hist=True, bins=np.arange(0,60000,100), ax=axes[2], label='CM1')\n",
    "sns.distplot(df_lr_scale.query('cm_dummy==0')['TVwatch_day']/df_lr_scale.query('cm_dummy==0')['p_score'], kde=False, norm_hist=True, bins=np.arange(0,60000,100), ax=axes[2], label='CM0')\n",
    "sns.distplot(df_svc.query('cm_dummy==1')['TVwatch_day']/df_svc.query('cm_dummy==1')['p_score'], kde=False, norm_hist=True, bins=np.arange(0,60000,100), ax=axes[3], label='CM1')\n",
    "sns.distplot(df_svc.query('cm_dummy==0')['TVwatch_day']/df_svc.query('cm_dummy==0')['p_score'], kde=False, norm_hist=True, bins=np.arange(0,60000,100), ax=axes[3], label='CM0')\n",
    "sns.distplot(df_lgb.query('cm_dummy==1')['TVwatch_day']/df_lgb.query('cm_dummy==1')['p_score'], kde=False, norm_hist=True, bins=np.arange(0,60000,100), ax=axes[4], label='CM1')\n",
    "sns.distplot(df_lgb.query('cm_dummy==0')['TVwatch_day']/df_lgb.query('cm_dummy==0')['p_score'], kde=False, norm_hist=True, bins=np.arange(0,60000,100), ax=axes[4], label='CM0')\n",
    "\n",
    "axes[0].legend()\n",
    "axes[1].legend()\n",
    "axes[2].legend()\n",
    "axes[3].legend()\n",
    "axes[4].legend()\n",
    "axes[0].set_title('before IPS adjusting TVWatch_day')\n",
    "axes[1].set_title('logistic regression:IPS adjusted TVWatch_day')\n",
    "axes[2].set_title('logistic regression(standardazation):IPS adjusted TVWatch_day')\n",
    "axes[3].set_title('SVM(RBF Kernel):IPS adjusted TVWatch_day')\n",
    "axes[4].set_title('Light GBM:IPS adjusted TVWatch_day')\n",
    "plt.show()"
   ]
  },
  {
   "cell_type": "code",
   "execution_count": 40,
   "metadata": {},
   "outputs": [
    {
     "data": {
      "text/plain": [
       "7469    0.497374\n",
       "8435    0.497374\n",
       "8909    0.497374\n",
       "7956    0.497374\n",
       "6993    0.497374\n",
       "          ...   \n",
       "7803    1.000000\n",
       "5906    1.000000\n",
       "9249    1.000000\n",
       "8771    1.000000\n",
       "7327    1.000000\n",
       "Name: p_score, Length: 4144, dtype: float64"
      ]
     },
     "execution_count": 40,
     "metadata": {},
     "output_type": "execute_result"
    }
   ],
   "source": [
    "\n",
    "df_lgb.query('cm_dummy==1')['p_score'].sort_values()"
   ]
  },
  {
   "cell_type": "code",
   "execution_count": 41,
   "metadata": {},
   "outputs": [
    {
     "data": {
      "text/plain": [
       "4945    2.307065e-13\n",
       "4269    2.307065e-13\n",
       "3588    2.307065e-13\n",
       "2224    2.307065e-13\n",
       "1550    2.307065e-13\n",
       "            ...     \n",
       "1823    5.020634e-01\n",
       "3870    5.020634e-01\n",
       "1600    7.301962e-01\n",
       "4322    7.301962e-01\n",
       "2277    7.301962e-01\n",
       "Name: p_score, Length: 5856, dtype: float64"
      ]
     },
     "execution_count": 41,
     "metadata": {},
     "output_type": "execute_result"
    }
   ],
   "source": [
    "#極端に小さい傾向スコア\n",
    "df_lgb.query('cm_dummy==0')['p_score'].sort_values()"
   ]
  },
  {
   "cell_type": "code",
   "execution_count": 36,
   "metadata": {},
   "outputs": [
    {
     "data": {
      "text/html": [
       "<div>\n",
       "<style scoped>\n",
       "    .dataframe tbody tr th:only-of-type {\n",
       "        vertical-align: middle;\n",
       "    }\n",
       "\n",
       "    .dataframe tbody tr th {\n",
       "        vertical-align: top;\n",
       "    }\n",
       "\n",
       "    .dataframe thead th {\n",
       "        text-align: right;\n",
       "    }\n",
       "</style>\n",
       "<table border=\"1\" class=\"dataframe\">\n",
       "  <thead>\n",
       "    <tr style=\"text-align: right;\">\n",
       "      <th></th>\n",
       "      <th>count</th>\n",
       "      <th>mean</th>\n",
       "      <th>median</th>\n",
       "    </tr>\n",
       "    <tr>\n",
       "      <th>cm_dummy</th>\n",
       "      <th></th>\n",
       "      <th></th>\n",
       "      <th></th>\n",
       "    </tr>\n",
       "  </thead>\n",
       "  <tbody>\n",
       "    <tr>\n",
       "      <th>0</th>\n",
       "      <td>5856</td>\n",
       "      <td>5714.982257</td>\n",
       "      <td>4026.437247</td>\n",
       "    </tr>\n",
       "    <tr>\n",
       "      <th>1</th>\n",
       "      <td>4144</td>\n",
       "      <td>11461.881259</td>\n",
       "      <td>9098.373953</td>\n",
       "    </tr>\n",
       "  </tbody>\n",
       "</table>\n",
       "</div>"
      ],
      "text/plain": [
       "          count          mean       median\n",
       "cm_dummy                                  \n",
       "0          5856   5714.982257  4026.437247\n",
       "1          4144  11461.881259  9098.373953"
      ]
     },
     "execution_count": 36,
     "metadata": {},
     "output_type": "execute_result"
    }
   ],
   "source": [
    "df.groupby(['cm_dummy'])['TVwatch_day'].agg(['count', 'mean', 'median'])"
   ]
  },
  {
   "cell_type": "code",
   "execution_count": 39,
   "metadata": {},
   "outputs": [
    {
     "data": {
      "text/html": [
       "<div>\n",
       "<style scoped>\n",
       "    .dataframe tbody tr th:only-of-type {\n",
       "        vertical-align: middle;\n",
       "    }\n",
       "\n",
       "    .dataframe tbody tr th {\n",
       "        vertical-align: top;\n",
       "    }\n",
       "\n",
       "    .dataframe thead th {\n",
       "        text-align: right;\n",
       "    }\n",
       "</style>\n",
       "<table border=\"1\" class=\"dataframe\">\n",
       "  <thead>\n",
       "    <tr style=\"text-align: right;\">\n",
       "      <th></th>\n",
       "      <th>count</th>\n",
       "      <th>mean</th>\n",
       "      <th>median</th>\n",
       "    </tr>\n",
       "    <tr>\n",
       "      <th>cm_dummy</th>\n",
       "      <th></th>\n",
       "      <th></th>\n",
       "      <th></th>\n",
       "    </tr>\n",
       "  </thead>\n",
       "  <tbody>\n",
       "    <tr>\n",
       "      <th>0</th>\n",
       "      <td>5856</td>\n",
       "      <td>19962.647186</td>\n",
       "      <td>15100.702121</td>\n",
       "    </tr>\n",
       "    <tr>\n",
       "      <th>1</th>\n",
       "      <td>4144</td>\n",
       "      <td>19581.092807</td>\n",
       "      <td>18248.119835</td>\n",
       "    </tr>\n",
       "  </tbody>\n",
       "</table>\n",
       "</div>"
      ],
      "text/plain": [
       "          count          mean        median\n",
       "cm_dummy                                   \n",
       "0          5856  19962.647186  15100.702121\n",
       "1          4144  19581.092807  18248.119835"
      ]
     },
     "execution_count": 39,
     "metadata": {},
     "output_type": "execute_result"
    }
   ],
   "source": [
    "#ロジスティック回帰で補正後\n",
    "pd.DataFrame({\n",
    "    'cm_dummy': df_lr['cm_dummy'],\n",
    "    'cm_dummy_with_ips': df_lr['TVwatch_day']/df_lr['p_score']\n",
    "}).groupby(['cm_dummy'])['cm_dummy_with_ips'].agg(['count', 'mean', 'median'])"
   ]
  },
  {
   "cell_type": "code",
   "execution_count": 42,
   "metadata": {},
   "outputs": [
    {
     "data": {
      "text/html": [
       "<div>\n",
       "<style scoped>\n",
       "    .dataframe tbody tr th:only-of-type {\n",
       "        vertical-align: middle;\n",
       "    }\n",
       "\n",
       "    .dataframe tbody tr th {\n",
       "        vertical-align: top;\n",
       "    }\n",
       "\n",
       "    .dataframe thead th {\n",
       "        text-align: right;\n",
       "    }\n",
       "</style>\n",
       "<table border=\"1\" class=\"dataframe\">\n",
       "  <thead>\n",
       "    <tr style=\"text-align: right;\">\n",
       "      <th></th>\n",
       "      <th>count</th>\n",
       "      <th>mean</th>\n",
       "      <th>median</th>\n",
       "    </tr>\n",
       "    <tr>\n",
       "      <th>cm_dummy</th>\n",
       "      <th></th>\n",
       "      <th></th>\n",
       "      <th></th>\n",
       "    </tr>\n",
       "  </thead>\n",
       "  <tbody>\n",
       "    <tr>\n",
       "      <th>0</th>\n",
       "      <td>5856</td>\n",
       "      <td>1.512976e+13</td>\n",
       "      <td>7.220391e+07</td>\n",
       "    </tr>\n",
       "    <tr>\n",
       "      <th>1</th>\n",
       "      <td>4144</td>\n",
       "      <td>1.148392e+04</td>\n",
       "      <td>9.198271e+03</td>\n",
       "    </tr>\n",
       "  </tbody>\n",
       "</table>\n",
       "</div>"
      ],
      "text/plain": [
       "          count          mean        median\n",
       "cm_dummy                                   \n",
       "0          5856  1.512976e+13  7.220391e+07\n",
       "1          4144  1.148392e+04  9.198271e+03"
      ]
     },
     "execution_count": 42,
     "metadata": {},
     "output_type": "execute_result"
    }
   ],
   "source": [
    "pd.DataFrame({\n",
    "    'cm_dummy': df_lgb['cm_dummy'],\n",
    "    'cm_dummy_with_ips': df_lgb['TVwatch_day']/df_lgb['p_score']\n",
    "}).groupby(['cm_dummy'])['cm_dummy_with_ips'].agg(['count', 'mean', 'median'])"
   ]
  },
  {
   "cell_type": "code",
   "execution_count": null,
   "metadata": {},
   "outputs": [],
   "source": []
  }
 ],
 "metadata": {
  "kernelspec": {
   "display_name": "Python 3",
   "language": "python",
   "name": "python3"
  },
  "language_info": {
   "codemirror_mode": {
    "name": "ipython",
    "version": 3
   },
   "file_extension": ".py",
   "mimetype": "text/x-python",
   "name": "python",
   "nbconvert_exporter": "python",
   "pygments_lexer": "ipython3",
   "version": "3.7.5"
  }
 },
 "nbformat": 4,
 "nbformat_minor": 2
}
